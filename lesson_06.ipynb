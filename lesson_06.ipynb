{
 "cells": [
  {
   "cell_type": "markdown",
   "metadata": {},
   "source": [
    "#### 1. Даны значения величины заработной платы заемщиков банка (zp) и значения их поведенческого кредитного скоринга (ks): zp = [35, 45, 190, 200, 40, 70, 54, 150, 120, 110], ks = [401, 574, 874, 919, 459, 739, 653, 902, 746, 832]. Найдите ковариацию этих двух величин с помощью элементарных действий, а затем с помощью функции cov из numpy. Полученные значения должны быть равны. Найдите коэффициент корреляции Пирсона с помощью ковариации и среднеквадратичных отклонений двух признаков, а затем с использованием функций из библиотек numpy и pandas."
   ]
  },
  {
   "cell_type": "code",
   "execution_count": 4,
   "metadata": {},
   "outputs": [],
   "source": [
    "import numpy as np\n",
    "import math"
   ]
  },
  {
   "cell_type": "code",
   "execution_count": 5,
   "metadata": {},
   "outputs": [
    {
     "name": "stdout",
     "output_type": "stream",
     "text": [
      "UDF covariance: 10175.3778, NumPy covariance: 10175.3778\n",
      "UDF correlation: 0.8875, NumPy correlation: 0.8875\n",
      "Ковариация: 10175.378\n",
      "NumPy ковариация: 10175.378\n",
      "Корреляция: 0.887\n",
      "NumPy корреляция: 0.887\n"
     ]
    }
   ],
   "source": [
    "zp = [35, 45, 190, 200, 40, 70, 54, 150, 120, 110]\n",
    "ks = [401, 574, 874, 919, 459, 739, 653, 902, 746, 832]\n",
    "\n",
    "zp_mean = np.mean(zp)\n",
    "ks_mean = np.mean(ks)\n",
    "zp_std = np.std(zp, ddof=1)\n",
    "ks_std = np.std(ks, ddof=1)\n",
    "\n",
    "cov = np.sum((np.array(zp) - zp_mean) * (np.array(ks) - ks_mean)) / (len(zp) - 1)\n",
    "cor = cov / (zp_std * ks_std)\n",
    "\n",
    "print(f'Ковариация: {np.round(my_stat.my_cov(zp, ks), 3)}')\n",
    "print(f'NumPy ковариация: {np.round(np.cov(zp, ks)[0][1], 3)}')\n",
    "\n",
    "print(f'Корреляция: {np.round(my_stat.my_cor(zp, ks), 3)}')\n",
    "print(f'NumPy корреляция: {np.round(np.corrcoef(zp, ks)[0][1], 3)}')"
   ]
  },
  {
   "cell_type": "markdown",
   "metadata": {},
   "source": [
    "#### 2. Измерены значения IQ выборки студентов, обучающихся в местных технических вузах: 131, 125, 115, 122, 131, 115, 107, 99, 125, 111. Известно, что в генеральной совокупности IQ распределен нормально. Найдите доверительный интервал для математического ожидания с надежностью 0.95."
   ]
  },
  {
   "cell_type": "code",
   "execution_count": 6,
   "metadata": {},
   "outputs": [
    {
     "name": "stdout",
     "output_type": "stream",
     "text": [
      "Доверительный интервал: [110.5559, 125.6441]\n"
     ]
    }
   ],
   "source": [
    "iq = [131, 125, 115, 122, 131, 115, 107, 99, 125, 111]\n",
    "\n",
    "m = np.mean(iq)\n",
    "s = np.std(iq, ddof=1)\n",
    "n = len(iq)\n",
    "df = n - 1\n",
    "\n",
    "p = 0.05\n",
    "t = 2.2622\n",
    "\n",
    "print(f'Доверительный интервал: [{np.round(m - t * s / math.sqrt(n), 4)}, {np.round(m + t * s / math.sqrt(n), 4)}]')"
   ]
  },
  {
   "cell_type": "markdown",
   "metadata": {},
   "source": [
    "#### 3. Известно, что рост футболистов в сборной распределен нормально с дисперсией генеральной совокупности, равной 25 кв.см. Объем выборки равен 27, среднее выборочное составляет 174.2. Найдите доверительный интервал для математического ожидания с надежностью 0.95."
   ]
  },
  {
   "cell_type": "code",
   "execution_count": 7,
   "metadata": {},
   "outputs": [
    {
     "name": "stdout",
     "output_type": "stream",
     "text": [
      "Доверительный интервал: [172.314, 176.086]\n"
     ]
    }
   ],
   "source": [
    "m = 174.2\n",
    "d = 25\n",
    "s = math.sqrt(d)\n",
    "n = 27\n",
    "df = n - 1\n",
    "\n",
    "p = 0.05\n",
    "t = 1.96\n",
    "\n",
    "print(f'Доверительный интервал: [{np.round(m - t * s / math.sqrt(n), 4)}, {np.round(m + t * s / math.sqrt(n), 4)}]')"
   ]
  }
 ],
 "metadata": {
  "kernelspec": {
   "display_name": "Python 3",
   "language": "python",
   "name": "python3"
  },
  "language_info": {
   "codemirror_mode": {
    "name": "ipython",
    "version": 3
   },
   "file_extension": ".py",
   "mimetype": "text/x-python",
   "name": "python",
   "nbconvert_exporter": "python",
   "pygments_lexer": "ipython3",
   "version": "3.7.4"
  }
 },
 "nbformat": 4,
 "nbformat_minor": 1
}
