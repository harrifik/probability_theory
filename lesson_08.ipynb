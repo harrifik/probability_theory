{
 "cells": [
  {
   "cell_type": "markdown",
   "metadata": {},
   "source": [
    "#### Провести дисперсионный анализ для определения того, есть ли различия среднего роста среди взрослых футболистов, хоккеистов и штангистов. Даны значения роста в трех группах случайно выбранных спортсменов: Футболисты: 173, 175, 180, 178, 177, 185, 183, 182. Хоккеисты: 177, 179, 180, 188, 177, 172, 171, 184, 180. Штангисты: 172, 173, 169, 177, 166, 180, 178, 177, 172, 166, 170."
   ]
  },
  {
   "cell_type": "code",
   "execution_count": 1,
   "metadata": {},
   "outputs": [],
   "source": [
    "import numpy as np"
   ]
  },
  {
   "cell_type": "code",
   "execution_count": 2,
   "metadata": {},
   "outputs": [],
   "source": [
    "footballers = np.array([173, 175, 180, 178, 177, 185, 183, 182])\n",
    "hockey_players = np.array([177, 179, 180, 188, 177, 172, 171, 184, 180])\n",
    "weightlifters = np.array([172, 173, 169, 177, 166, 180, 178, 177, 172, 166, 170])"
   ]
  },
  {
   "cell_type": "code",
   "execution_count": 5,
   "metadata": {},
   "outputs": [
    {
     "name": "stdout",
     "output_type": "stream",
     "text": [
      "Фуболисты: 8\n",
      "Хокеисты: 9\n",
      "Штангисты: 11\n"
     ]
    }
   ],
   "source": [
    "n1 = len(footballers)\n",
    "n2 = len(hockey_players)\n",
    "n3 = len(weightlifters)\n",
    "\n",
    "n = n1 + n2 + n3\n",
    "k = 3\n",
    "\n",
    "print(f'Фуболисты: {n1}\\nХокеисты: {n2}\\nШтангисты: {n3}')"
   ]
  },
  {
   "cell_type": "code",
   "execution_count": 6,
   "metadata": {},
   "outputs": [],
   "source": [
    "footballers_mean = np.mean(footballers)\n",
    "hockey_players_mean = np.mean(hockey_players)\n",
    "weightlifters_mean = np.mean(weightlifters)"
   ]
  },
  {
   "cell_type": "code",
   "execution_count": 7,
   "metadata": {},
   "outputs": [],
   "source": [
    "y = np.concatenate([footballers, hockey_players, weightlifters])\n",
    "\n",
    "y_mean = np.mean(y)"
   ]
  },
  {
   "cell_type": "code",
   "execution_count": 10,
   "metadata": {},
   "outputs": [
    {
     "name": "stdout",
     "output_type": "stream",
     "text": [
      "Сумма квадратов отклонений наблюдений от общего среднего: 830.964\n",
      "Сумма квадратов отклонений средних групповых значений от общего среднего: 253.907\n",
      "Остаточная сумма квадратов отклонений: 577.057\n"
     ]
    }
   ],
   "source": [
    "ss_g = np.sum((y - y_mean)**2)\n",
    "ss_f = ((footballers_mean - y_mean)**2) * n1 + ((hockey_players_mean - y_mean)**2) * n2 + ((weightlifters_mean - y_mean)**2) * n3\n",
    "ss_r = np.sum((footballers - footballers_mean)**2) + np.sum((hockey_players - hockey_players_mean)**2) + np.sum((weightlifters - weightlifters_mean)**2)\n",
    "\n",
    "print(f'Сумма квадратов отклонений наблюдений от общего среднего: {np.round(ss_g, 3)}')\n",
    "print(f'Сумма квадратов отклонений средних групповых значений от общего среднего: {np.round(ss_f, 3)}')\n",
    "print(f'Остаточная сумма квадратов отклонений: {np.round(ss_r, 3)}')"
   ]
  },
  {
   "cell_type": "code",
   "execution_count": 11,
   "metadata": {},
   "outputs": [
    {
     "name": "stdout",
     "output_type": "stream",
     "text": [
      "True\n"
     ]
    }
   ],
   "source": [
    "print(np.round(ss_g, 3) == np.round(ss_f + ss_r, 3))"
   ]
  },
  {
   "cell_type": "code",
   "execution_count": 12,
   "metadata": {},
   "outputs": [
    {
     "name": "stdout",
     "output_type": "stream",
     "text": [
      "Общая дисперсия: 30.776\n",
      "Факторная дисперсия: 126.954\n",
      "Остаточная дисперсия: 23.082\n"
     ]
    }
   ],
   "source": [
    "s2_g = ss_g / (n - 1)\n",
    "s2_f = ss_f / (k - 1)\n",
    "s2_r = ss_r / (n - k)\n",
    "\n",
    "print(f'Общая дисперсия: {np.round(s2_g, 3)}')\n",
    "print(f'Факторная дисперсия: {np.round(s2_f, 3)}')\n",
    "print(f'Остаточная дисперсия: {np.round(s2_r, 3)}')"
   ]
  },
  {
   "cell_type": "code",
   "execution_count": 13,
   "metadata": {},
   "outputs": [
    {
     "data": {
      "text/plain": [
       "25"
      ]
     },
     "execution_count": 13,
     "metadata": {},
     "output_type": "execute_result"
    }
   ],
   "source": [
    "n - k"
   ]
  },
  {
   "cell_type": "code",
   "execution_count": 14,
   "metadata": {},
   "outputs": [
    {
     "name": "stdout",
     "output_type": "stream",
     "text": [
      "Fh = 5.5\n",
      "Fcritical = 3.38\n"
     ]
    }
   ],
   "source": [
    "f_h = s2_f / s2_r\n",
    "f_critical = 3.38\n",
    "\n",
    "print(f'Fh = {np.round(f_h, 3)}')\n",
    "print(f'Fcritical = {np.round(f_critical, 3)}')"
   ]
  },
  {
   "cell_type": "code",
   "execution_count": 15,
   "metadata": {},
   "outputs": [
    {
     "name": "stdout",
     "output_type": "stream",
     "text": [
      "Различия роста статистически значимы\n"
     ]
    }
   ],
   "source": [
    "if f_h > f_critical:\n",
    "    print('Различия роста статистически значимы')\n",
    "else:\n",
    "    print('Различия роста статистически незначимы')"
   ]
  },
  {
   "cell_type": "code",
   "execution_count": 17,
   "metadata": {},
   "outputs": [
    {
     "name": "stdout",
     "output_type": "stream",
     "text": [
      "eta^2: 0.306\n"
     ]
    }
   ],
   "source": [
    "eta2 = ss_f / ss_g\n",
    "\n",
    "print(f'eta^2: {np.round(eta2, 3)}')"
   ]
  },
  {
   "cell_type": "code",
   "execution_count": 18,
   "metadata": {},
   "outputs": [
    {
     "name": "stdout",
     "output_type": "stream",
     "text": [
      "Групповые значения средних имеют статистически достоверные отличия\n"
     ]
    }
   ],
   "source": [
    "if eta2 < 0.3:\n",
    "    print('Групповые значения средних не имеют статистически достоверного отличия')\n",
    "else:\n",
    "    print('Групповые значения средних имеют статистически достоверные отличия')"
   ]
  }
 ],
 "metadata": {
  "kernelspec": {
   "display_name": "Python 3",
   "language": "python",
   "name": "python3"
  },
  "language_info": {
   "codemirror_mode": {
    "name": "ipython",
    "version": 3
   },
   "file_extension": ".py",
   "mimetype": "text/x-python",
   "name": "python",
   "nbconvert_exporter": "python",
   "pygments_lexer": "ipython3",
   "version": "3.7.4"
  }
 },
 "nbformat": 4,
 "nbformat_minor": 2
}
