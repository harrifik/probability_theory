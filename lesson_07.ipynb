{
 "cells": [
  {
   "cell_type": "markdown",
   "metadata": {},
   "source": [
    "#### 1. Даны значения величины заработной платы заемщиков банка (zp) и значения их поведенческого кредитного скоринга (ks): zp = [35, 45, 190, 200, 40, 70, 54, 150, 120, 110], ks = [401, 574, 874, 919, 459, 739, 653, 902, 746, 832]. Используя математические операции, посчитать коэффициенты линейной регрессии, приняв за X заработную плату (то есть, zp - признак), а за y - значения скорингового балла (то есть, ks - целевая переменная). Произвести расчет как с использованием intercept, так и без."
   ]
  },
  {
   "cell_type": "code",
   "execution_count": 2,
   "metadata": {},
   "outputs": [],
   "source": [
    "import pandas as pd\n",
    "import numpy as np\n",
    "from sklearn.linear_model import LinearRegression"
   ]
  },
  {
   "cell_type": "code",
   "execution_count": 3,
   "metadata": {},
   "outputs": [],
   "source": [
    "zp = [35, 45, 190, 200, 40, 70, 54, 150, 120, 110]\n",
    "ks = [401, 574, 874, 919, 459, 739, 653, 902, 746, 832]"
   ]
  },
  {
   "cell_type": "code",
   "execution_count": 4,
   "metadata": {},
   "outputs": [],
   "source": [
    "x = np.array(zp)\n",
    "y = np.array(ks)"
   ]
  },
  {
   "cell_type": "code",
   "execution_count": 8,
   "metadata": {},
   "outputs": [],
   "source": [
    "def mse(y_true, y_pred):\n",
    "    return np.sum(np.power((y_true - y_pred), 2)) / len(y_true)\n",
    "\n",
    "def rmse(y_true, y_pred):\n",
    "    return np.sqrt(mse(y_true, y_pred))\n",
    "\n",
    "def approximation_error(y_true, y_pred):\n",
    "    return 100 * np.sum(abs((y_true - y_pred) / y_true)) / len(y_true)\n",
    "\n",
    "def r_square(x, y):\n",
    "    x_mean = np.mean(x)\n",
    "    y_mean = np.mean(y)\n",
    "    x_std = np.std(x, ddof=1)\n",
    "    y_std = np.std(y, ddof=1)\n",
    "    n = len(x)\n",
    "    covariance = np.sum((np.array(x) - x_mean) * (np.array(y) - y_mean)) / (n - 1)\n",
    "    correlation = covariance / (x_std * y_std)    \n",
    "    return np.power(correlation, 2)"
   ]
  },
  {
   "cell_type": "markdown",
   "metadata": {},
   "source": [
    "#### с использованием intercept"
   ]
  },
  {
   "cell_type": "code",
   "execution_count": 9,
   "metadata": {},
   "outputs": [
    {
     "name": "stdout",
     "output_type": "stream",
     "text": [
      "a = 444.177, b = 2.621\n",
      "y = 444.177 + 2.621 * x\n"
     ]
    }
   ],
   "source": [
    "# аналитический метод:\n",
    "b = (np.mean(x * y) - np.mean(x) * np.mean(y)) / (np.mean(x**2) - np.mean(x) ** 2)\n",
    "a = np.mean(y) - b * np.mean(x)\n",
    "print(f'a = {np.round(a, 3)}, b = {np.round(b, 3)}')\n",
    "print(f'y = {np.round(a, 3)} + {np.round(b, 3)} * x')"
   ]
  },
  {
   "cell_type": "code",
   "execution_count": 10,
   "metadata": {},
   "outputs": [
    {
     "name": "stdout",
     "output_type": "stream",
     "text": [
      "MSE: 6470.414\n",
      "RMSE: 80.439\n",
      "Approximation error: 11.469%\n",
      "R**2: 0.788\n"
     ]
    }
   ],
   "source": [
    "y_hat = a + b * x\n",
    "print(f'MSE: {np.round(mse(y, y_hat), 3)}')\n",
    "print(f'RMSE: {np.round(rmse(y, y_hat), 3)}')\n",
    "print(f'Approximation error: {np.round(approximation_error(y, y_hat), 3)}%')\n",
    "print(f'R**2: {np.round(r_square(y, y_hat), 3)}')"
   ]
  },
  {
   "cell_type": "code",
   "execution_count": 11,
   "metadata": {},
   "outputs": [
    {
     "name": "stdout",
     "output_type": "stream",
     "text": [
      "a = 444.177, b = 2.621\n",
      "y = 444.177 + 2.621 * x\n"
     ]
    }
   ],
   "source": [
    "# линейная алгебра:\n",
    "X = np.hstack([np.ones((len(x.reshape(-1, 1)), 1)), x.reshape(-1, 1)])\n",
    "a, b = np.dot(np.dot(np.linalg.inv(np.dot(X.T, X)), X.T), y)\n",
    "print(f'a = {np.round(a, 3)}, b = {np.round(b, 3)}')\n",
    "print(f'y = {np.round(a, 3)} + {np.round(b, 3)} * x')"
   ]
  },
  {
   "cell_type": "code",
   "execution_count": 12,
   "metadata": {},
   "outputs": [
    {
     "name": "stdout",
     "output_type": "stream",
     "text": [
      "MSE: 6470.414\n",
      "RMSE: 80.439\n",
      "Approximation error: 11.469%\n",
      "R**2: 0.788\n"
     ]
    }
   ],
   "source": [
    "y_hat = a + b * x\n",
    "print(f'MSE: {np.round(mse(y, y_hat), 3)}')\n",
    "print(f'RMSE: {np.round(rmse(y, y_hat), 3)}')\n",
    "print(f'Approximation error: {np.round(approximation_error(y, y_hat), 3)}%')\n",
    "print(f'R**2: {np.round(r_square(y, y_hat), 3)}')"
   ]
  },
  {
   "cell_type": "code",
   "execution_count": 13,
   "metadata": {},
   "outputs": [
    {
     "name": "stdout",
     "output_type": "stream",
     "text": [
      "a = 444.177, b = 2.621\n",
      "y = 444.177 + 2.621 * x\n"
     ]
    }
   ],
   "source": [
    "# машинное обучение:\n",
    "X = x.reshape(-1, 1)\n",
    "lr = LinearRegression(fit_intercept=True)\n",
    "lr.fit(X, y)\n",
    "a, b = lr.intercept_, lr.coef_[0]\n",
    "print(f'a = {np.round(a, 3)}, b = {np.round(b, 3)}')\n",
    "print(f'y = {np.round(a, 3)} + {np.round(b, 3)} * x')"
   ]
  },
  {
   "cell_type": "code",
   "execution_count": 14,
   "metadata": {},
   "outputs": [
    {
     "name": "stdout",
     "output_type": "stream",
     "text": [
      "MSE: 6470.414\n",
      "RMSE: 80.439\n",
      "Approximation error: 11.469%\n",
      "R**2: 0.788\n"
     ]
    }
   ],
   "source": [
    "y_hat = lr.predict(X)\n",
    "print(f'MSE: {np.round(mse(y, y_hat), 3)}')\n",
    "print(f'RMSE: {np.round(rmse(y, y_hat), 3)}')\n",
    "print(f'Approximation error: {np.round(approximation_error(y, y_hat), 3)}%')\n",
    "print(f'R**2: {np.round(r_square(y, y_hat), 3)}')"
   ]
  },
  {
   "cell_type": "markdown",
   "metadata": {},
   "source": [
    "#### без использования intercept"
   ]
  },
  {
   "cell_type": "code",
   "execution_count": 15,
   "metadata": {},
   "outputs": [
    {
     "name": "stdout",
     "output_type": "stream",
     "text": [
      "a = 0, b = 5.8898\n",
      "y = 0 + 5.8898 * x\n"
     ]
    }
   ],
   "source": [
    "# линейная алгебра:\n",
    "X = x.reshape(-1, 1)\n",
    "b = np.dot(np.dot(np.linalg.inv(np.dot(X.T, X)), X.T), y)[0]\n",
    "a = 0\n",
    "print(f'a = {np.round(a, 4)}, b = {np.round(b, 4)}')\n",
    "print(f'y = {np.round(a, 4)} + {np.round(b, 4)} * x')"
   ]
  },
  {
   "cell_type": "code",
   "execution_count": 16,
   "metadata": {},
   "outputs": [
    {
     "name": "stdout",
     "output_type": "stream",
     "text": [
      "MSE: 56516.8584\n",
      "RMSE: 237.7327\n",
      "Approximation error: 33.2255%\n",
      "R**2: 0.7876\n"
     ]
    }
   ],
   "source": [
    "y_hat = a + b * x\n",
    "print(f'MSE: {np.round(mse(y, y_hat), 4)}')\n",
    "print(f'RMSE: {np.round(rmse(y, y_hat), 4)}')\n",
    "print(f'Approximation error: {np.round(approximation_error(y, y_hat), 4)}%')\n",
    "print(f'R**2: {np.round(r_square(y, y_hat), 4)}')"
   ]
  },
  {
   "cell_type": "code",
   "execution_count": 17,
   "metadata": {},
   "outputs": [
    {
     "name": "stdout",
     "output_type": "stream",
     "text": [
      "a = 0.0, b = 5.8898\n",
      "y = 0.0 + 5.8898 * x\n"
     ]
    }
   ],
   "source": [
    "# машинное обучение:\n",
    "X = x.reshape(-1, 1)\n",
    "lr = LinearRegression(fit_intercept=False)\n",
    "lr.fit(X, y)\n",
    "a, b = lr.intercept_, lr.coef_[0]\n",
    "print(f'a = {np.round(a, 4)}, b = {np.round(b, 4)}')\n",
    "print(f'y = {np.round(a, 4)} + {np.round(b, 4)} * x')"
   ]
  },
  {
   "cell_type": "code",
   "execution_count": 18,
   "metadata": {},
   "outputs": [
    {
     "name": "stdout",
     "output_type": "stream",
     "text": [
      "MSE: 56516.8584\n",
      "RMSE: 237.7327\n",
      "Approximation error: 33.2255%\n",
      "R**2: 0.7876\n"
     ]
    }
   ],
   "source": [
    "y_hat = lr.predict(X)\n",
    "print(f'MSE: {np.round(mse(y, y_hat), 4)}')\n",
    "print(f'RMSE: {np.round(rmse(y, y_hat), 4)}')\n",
    "print(f'Approximation error: {np.round(approximation_error(y, y_hat), 4)}%')\n",
    "print(f'R**2: {np.round(r_square(y, y_hat), 4)}')"
   ]
  },
  {
   "cell_type": "markdown",
   "metadata": {},
   "source": [
    "#### 2. Посчитать коэффициент линейной регрессии при заработной плате (zp), используя градиентный спуск (без intercept)."
   ]
  },
  {
   "cell_type": "code",
   "execution_count": 19,
   "metadata": {
    "scrolled": true
   },
   "outputs": [],
   "source": [
    "def gradient_descent(x, y, learning_rate=0.0001, max_iter=1000, eps=0.0001, intercept=False, verbose=0):\n",
    "    a, b = 0, 0\n",
    "    n = len(x)\n",
    "    if intercept:\n",
    "        for i in range(1, max_iter + 1):\n",
    "            y_pred = a + b * x\n",
    "            da = -1 / n * np.sum(y - y_pred)\n",
    "            db = -1 / n * np.sum(x * (y - y_pred))\n",
    "            grad_a = learning_rate * da\n",
    "            grad_b = learning_rate * db\n",
    "            if verbose:\n",
    "                if i % verbose == 0:\n",
    "                    print(f'Iter: {i}, a = {np.round(a, 4)}, b = {np.round(b, 4)}')\n",
    "                if abs(-grad_a) < eps and (-grad_b) < eps:\n",
    "                    print('*' * 64)\n",
    "                    print('Early stopping!')\n",
    "                    print(f'Iter: {i}, a = {np.round(a, 4)}, b = {np.round(b, 4)}')\n",
    "                    print('*' * 64)\n",
    "                    break\n",
    "            a = a - grad_a\n",
    "            b = b - grad_b\n",
    "        return a, b\n",
    "    else:\n",
    "        for i in range(1, max_iter + 1):\n",
    "            y_pred = a + b * x\n",
    "            db = -1 / n * np.sum(x * (y - y_pred))\n",
    "            grad_b = learning_rate * db\n",
    "            if verbose:\n",
    "                if i % verbose == 0:\n",
    "                    print(f'Iter: {i}, a = {np.round(a, 4)}, b = {np.round(b, 4)}')\n",
    "                if abs(-grad_b) < eps:\n",
    "                    print('*' * 64)\n",
    "                    print('Early stopping!')\n",
    "                    print(f'Iter: {i}, a = {np.round(a, 4)}, b = {np.round(b, 4)}')\n",
    "                    print('*' * 64)\n",
    "                    break\n",
    "            b = b - grad_b\n",
    "        return a, b"
   ]
  },
  {
   "cell_type": "code",
   "execution_count": 20,
   "metadata": {
    "scrolled": true
   },
   "outputs": [
    {
     "name": "stdout",
     "output_type": "stream",
     "text": [
      "Iter: 10, a = 0, b = 5.8907\n",
      "****************************************************************\n",
      "Early stopping!\n",
      "Iter: 13, a = 0, b = 5.8898\n",
      "****************************************************************\n",
      "a = 0, b = 5.8898\n",
      "y = 0 + 5.8898 * x\n"
     ]
    }
   ],
   "source": [
    "a, b = gradient_descent(x, y, max_iter=100, verbose=10)\n",
    "print(f'a = {np.round(a, 4)}, b = {np.round(b, 4)}')\n",
    "print(f'y = {np.round(a, 4)} + {np.round(b, 4)} * x')"
   ]
  },
  {
   "cell_type": "code",
   "execution_count": 21,
   "metadata": {},
   "outputs": [
    {
     "name": "stdout",
     "output_type": "stream",
     "text": [
      "MSE: 56516.8584\n",
      "RMSE: 237.7327\n",
      "Approximation error: 33.2257%\n",
      "R**2: 0.7876\n"
     ]
    }
   ],
   "source": [
    "y_hat = a + b * x\n",
    "print(f'MSE: {np.round(mse(y, y_hat), 4)}')\n",
    "print(f'RMSE: {np.round(rmse(y, y_hat), 4)}')\n",
    "print(f'Approximation error: {np.round(approximation_error(y, y_hat), 4)}%')\n",
    "print(f'R**2: {np.round(r_square(y, y_hat), 4)}')"
   ]
  },
  {
   "cell_type": "markdown",
   "metadata": {},
   "source": [
    "#### 3. В каких случаях для вычисления доверительных интервалов и проверки статистических гипотез используется таблица значений функции Лапласа, а в каких - таблица критических точек распределения Стьюдента?"
   ]
  },
  {
   "cell_type": "markdown",
   "metadata": {},
   "source": [
    "Для проверки статистических гипотез используется:\n",
    "- таблица значений функции Лапаласа - в случае, если известна дисперсия генеральной совокупности\n",
    "- таблица критических точек распределения Стъюдента - в случае, если дисперсия генеральной совокупности неизвестна"
   ]
  }
 ],
 "metadata": {
  "kernelspec": {
   "display_name": "Python 3",
   "language": "python",
   "name": "python3"
  },
  "language_info": {
   "codemirror_mode": {
    "name": "ipython",
    "version": 3
   },
   "file_extension": ".py",
   "mimetype": "text/x-python",
   "name": "python",
   "nbconvert_exporter": "python",
   "pygments_lexer": "ipython3",
   "version": "3.7.4"
  }
 },
 "nbformat": 4,
 "nbformat_minor": 1
}
