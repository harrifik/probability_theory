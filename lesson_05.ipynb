{
 "cells": [
  {
   "cell_type": "markdown",
   "metadata": {},
   "source": [
    "#### 1. Известно, что генеральная совокупность распределена нормально со средним квадратическим отклонением, равным 16. Найти доверительный интервал для оценки математического ожидания a с надежностью 0.95, если выборочная средняя M = 80, а объем выборки n = 256."
   ]
  },
  {
   "cell_type": "code",
   "execution_count": 4,
   "metadata": {},
   "outputs": [],
   "source": [
    "import numpy as np\n",
    "import math"
   ]
  },
  {
   "cell_type": "code",
   "execution_count": 5,
   "metadata": {},
   "outputs": [
    {
     "name": "stdout",
     "output_type": "stream",
     "text": [
      "Доверительный интервал: [78.04, 81.96]\n"
     ]
    }
   ],
   "source": [
    "lambda_ = 0.95\n",
    "t_lambda_ = 1.96\n",
    "\n",
    "S = 16\n",
    "M = 80\n",
    "n = 256\n",
    "\n",
    "delta_ = t_lambda_ * S / math.sqrt(n)\n",
    "\n",
    "a, b = M - delta_, M + delta_\n",
    "\n",
    "print(f'Доверительный интервал: [{a}, {b}]')"
   ]
  },
  {
   "cell_type": "markdown",
   "metadata": {},
   "source": [
    "#### 2. В результате 10 независимых измерений некоторой величины X, выполненных с одинаковой точностью, получены опытные данные: 6.9, 6.1, 6.2, 6.8, 7.5, 6.3, 6.4, 6.9, 6.7, 6.1. Предполагая, что результаты измерений подчинены нормальному закону распределения вероятностей, оценить истинное значение величины X при помощи доверительного интервала, покрывающего это значение с доверительной вероятностью 0,95."
   ]
  },
  {
   "cell_type": "code",
   "execution_count": 6,
   "metadata": {},
   "outputs": [
    {
     "name": "stdout",
     "output_type": "stream",
     "text": [
      "Доверительный интервал: [6.324928568117951, 6.855071431882051]\n"
     ]
    }
   ],
   "source": [
    "lambda_ = 0.95\n",
    "t_lambda_ = 1.96\n",
    "\n",
    "X = [6.9, 6.1, 6.2, 6.8, 7.5, 6.3, 6.4, 6.9, 6.7, 6.1]\n",
    "S = np.std(X)\n",
    "M = np.mean(X)\n",
    "n = len(X)\n",
    "\n",
    "delta_ = t_lambda_ * S / math.sqrt(n)\n",
    "\n",
    "a, b = M - delta_, M + delta_\n",
    "\n",
    "print(f'Доверительный интервал: [{a}, {b}]')"
   ]
  },
  {
   "cell_type": "markdown",
   "metadata": {},
   "source": [
    "#### 3. Утверждается, что шарики для подшипников, изготовленные автоматическим станком, имеют средний диаметр 17 мм.  Используя односторонний критерий с α=0,05, проверить эту гипотезу, если в выборке из n=100 шариков средний диаметр оказался равным 17.5 мм, а дисперсия известна и равна 4 мм."
   ]
  },
  {
   "cell_type": "code",
   "execution_count": 7,
   "metadata": {},
   "outputs": [
    {
     "name": "stdout",
     "output_type": "stream",
     "text": [
      "Принимаем гипотезу H1\n"
     ]
    }
   ],
   "source": [
    "# H0: M(X) = 17\n",
    "# H1: M(X) > 17\n",
    "\n",
    "lambda_ = 0.95\n",
    "\n",
    "D = 4\n",
    "S = math.sqrt(4)\n",
    "M = 17\n",
    "x = 17.5\n",
    "n = 100\n",
    "\n",
    "t_lambda_ = ((x - M) / S) * math.sqrt(n)\n",
    "\n",
    "t_critical_ = 1.645\n",
    "\n",
    "if t_lambda_ <= t_critical_:\n",
    "    print('Принимаем гипотезу H0')\n",
    "else:\n",
    "    print('Принимаем гипотезу H1')"
   ]
  },
  {
   "cell_type": "markdown",
   "metadata": {},
   "source": [
    "#### 4. Продавец утверждает, что средний вес пачки печенья составляет 200 г. Из партии извлечена выборка из 10 пачек. Вес каждой пачки составляет: 202, 203, 199, 197, 195, 201, 200, 204, 194, 190. Известно, что их веса распределены нормально. Верно ли утверждение продавца, если учитывать, что доверительная вероятность равна 99%?"
   ]
  },
  {
   "cell_type": "code",
   "execution_count": 8,
   "metadata": {},
   "outputs": [
    {
     "name": "stdout",
     "output_type": "stream",
     "text": [
      "Принимаем гипотезу H1\n"
     ]
    }
   ],
   "source": [
    "# H0: M(X) = 200\n",
    "# H1: M(X) != 200\n",
    "\n",
    "lambda_ = 0.99\n",
    "\n",
    "X = [202, 203, 199, 197, 195, 201, 200, 204, 194, 190]\n",
    "\n",
    "S = np.std(X)\n",
    "M = 200\n",
    "x = np.mean(X)\n",
    "\n",
    "n = 100\n",
    "\n",
    "t_lambda_ = abs(((x - M) / S) * math.sqrt(n))\n",
    "\n",
    "t_critical_ = 2.58\n",
    "\n",
    "if t_lambda_ <= t_critical_:\n",
    "    print('Принимаем гипотезу H0')\n",
    "else:\n",
    "    print('Принимаем гипотезу H1')"
   ]
  }
 ],
 "metadata": {
  "kernelspec": {
   "display_name": "Python 3",
   "language": "python",
   "name": "python3"
  },
  "language_info": {
   "codemirror_mode": {
    "name": "ipython",
    "version": 3
   },
   "file_extension": ".py",
   "mimetype": "text/x-python",
   "name": "python",
   "nbconvert_exporter": "python",
   "pygments_lexer": "ipython3",
   "version": "3.7.4"
  }
 },
 "nbformat": 4,
 "nbformat_minor": 1
}
