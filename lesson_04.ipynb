{
 "cells": [
  {
   "cell_type": "markdown",
   "metadata": {},
   "source": [
    "#### 1. Случайная непрерывная величина A имеет равномерное распределение на промежутке (200, 800].\n",
    "#### Найдите ее среднее значение и дисперсию."
   ]
  },
  {
   "cell_type": "code",
   "execution_count": 1,
   "metadata": {},
   "outputs": [],
   "source": [
    "import numpy as np\n",
    "from scipy import stats"
   ]
  },
  {
   "cell_type": "code",
   "execution_count": 2,
   "metadata": {},
   "outputs": [
    {
     "name": "stdout",
     "output_type": "stream",
     "text": [
      "Среднее значение: 500.0\n",
      "Дисперсия: 30000.0\n"
     ]
    }
   ],
   "source": [
    "a = 200\n",
    "b = 800\n",
    "\n",
    "M = (b + a) / 2\n",
    "D = (b - a) ** 2 / 12\n",
    "\n",
    "print(f'Среднее значение: {M}')\n",
    "print(f'Дисперсия: {D}')"
   ]
  },
  {
   "cell_type": "markdown",
   "metadata": {},
   "source": [
    "#### 2. О случайной непрерывной величине B известно, что ее дисперсия равна 0.2.\n",
    "#### Можно ли найти правую границу величины B и ее среднее значение зная, что левая граница равна 0.5?\n",
    "#### Если да, найдите ее."
   ]
  },
  {
   "cell_type": "code",
   "execution_count": 7,
   "metadata": {},
   "outputs": [
    {
     "name": "stdout",
     "output_type": "stream",
     "text": [
      "[ 2.04919334 -1.04919334]\n",
      "b = 2.049193338482967\n",
      "M = 0.7745966692414834\n"
     ]
    }
   ],
   "source": [
    "D = 0.2\n",
    "a = 0.5\n",
    "\n",
    "# D = (b - a) ** 2 / 12\n",
    "# b^2 - b - 2.15 = 0\n",
    "\n",
    "coeff = [1, -1, -2.15]\n",
    "r = np.roots(coeff)\n",
    "\n",
    "print(r)\n",
    "\n",
    "# т.к. левая граница a = 0.5, то b > a --> b = 2.04919334\n",
    "\n",
    "b = r[0]\n",
    "\n",
    "print(f'b = {b}')\n",
    "\n",
    "M = (b - a) / 2\n",
    "\n",
    "print(f'M = {M}')"
   ]
  },
  {
   "cell_type": "markdown",
   "metadata": {},
   "source": [
    "#### 3. Непрерывная случайная величина C распределена нормально и задана плотностью распределения\n",
    "#### f(x) = (1 / (4 * sqrt(2*pi))) * (exp(-(x+2)**2) / 32).\n",
    "#### Найдите:\n",
    "#### а). M(X)\n",
    "#### б). D(X)\n",
    "#### в). std(x) (среднее квадратичное отклонение)"
   ]
  },
  {
   "cell_type": "code",
   "execution_count": 8,
   "metadata": {},
   "outputs": [
    {
     "name": "stdout",
     "output_type": "stream",
     "text": [
      "M(X) = -2\n",
      "D(X) = 16\n",
      "std(X) = 4\n"
     ]
    }
   ],
   "source": [
    "# по формуле плотности вероятности нормального распределения:\n",
    "\n",
    "print('M(X) = -2')\n",
    "print('D(X) = 16')\n",
    "print('std(X) = 4')"
   ]
  },
  {
   "cell_type": "markdown",
   "metadata": {},
   "source": [
    "#### 4. Рост взрослого населения города X имеет нормальное распределение. \n",
    "#### Причем, средний рост равен 174 см, а среднее квадратичное отклонение равно 8 см.\n",
    "#### Какова вероятность того, что случайным образом выбранный взрослый человек имеет рост:\n",
    "#### а). больше 182 см\n",
    "#### б). больше 190 см\n",
    "#### в). от 166 см до 190 см\n",
    "#### г). от 166 см до 182 см\n",
    "#### д). от 158 см до 190 см\n",
    "#### е). не выше 150 см или не ниже 190 см\n",
    "#### ё). не выше 150 см или не ниже 198 см\n",
    "#### ж). ниже 166 см."
   ]
  },
  {
   "cell_type": "code",
   "execution_count": 12,
   "metadata": {},
   "outputs": [
    {
     "name": "stdout",
     "output_type": "stream",
     "text": [
      "Вероятность того, что случайным образом выбранный взрослый человек имеет рост:\n",
      "\tа). больше 182 см равна 0.1587\n",
      "\tб). больше 190 см равна 0.0228\n",
      "\tв). от 166 см до 190 см равна 0.8186\n",
      "\tг). от 166 см до 182 см равна 0.6827\n",
      "\tд). от 158 см до 190 см равна 0.9545\n",
      "\tе). не выше 150 см или не ниже 190 см равна 0.0241\n",
      "\tё). не выше 150 см или не ниже 198 см равна 0.0027\n",
      "\tж). ниже 166 см равна 0.1587\n"
     ]
    }
   ],
   "source": [
    "M = 174\n",
    "S = 8\n",
    "\n",
    "p1 = 1 - stats.norm.cdf((182 - M) / S) - stats.norm.cdf((0 - M) / S)\n",
    "p2 = 1 - stats.norm.cdf((190 - M) / S) - stats.norm.cdf((0 - M) / S)\n",
    "p3 = stats.norm.cdf((190 - M) / S) - stats.norm.cdf((166 - M) / S)\n",
    "p4 = stats.norm.cdf((182 - M) / S) - stats.norm.cdf((166 - M) / S)\n",
    "p5 = stats.norm.cdf((190 - M) / S) - stats.norm.cdf((158 - M) / S)\n",
    "p6 = (1 - stats.norm.cdf((190 - M) / S) - stats.norm.cdf((0 - M) / S)) + (stats.norm.cdf((150 - M) / S) - stats.norm.cdf((0 - M) / S))\n",
    "p7 = (1 - stats.norm.cdf((198 - M) / S) - stats.norm.cdf((0 - M) / S)) + (stats.norm.cdf((150 - M) / S) - stats.norm.cdf((0 - M) / S))\n",
    "p8 = stats.norm.cdf((166 - M) / S) - stats.norm.cdf((0 - M) / S)\n",
    "\n",
    "print('Вероятность того, что случайным образом выбранный взрослый человек имеет рост:')\n",
    "print(f'\\tа). больше 182 см равна {np.round(p1, 4)}')\n",
    "print(f'\\tб). больше 190 см равна {np.round(p2, 4)}')\n",
    "print(f'\\tв). от 166 см до 190 см равна {np.round(p3, 4)}')\n",
    "print(f'\\tг). от 166 см до 182 см равна {np.round(p4, 4)}')\n",
    "print(f'\\tд). от 158 см до 190 см равна {np.round(p5, 4)}')\n",
    "print(f'\\tе). не выше 150 см или не ниже 190 см равна {np.round(p6, 4)}')\n",
    "print(f'\\tё). не выше 150 см или не ниже 198 см равна {np.round(p7, 4)}')\n",
    "print(f'\\tж). ниже 166 см равна {np.round(p8, 4)}')"
   ]
  },
  {
   "cell_type": "markdown",
   "metadata": {},
   "source": [
    "#### 5. На сколько сигм (средних квадратичных отклонений) отклоняется рост человека, равный 190 см, от \n",
    "#### математического ожидания роста в популяции, в которой M(X) = 178 и D(X) = 25 см?"
   ]
  },
  {
   "cell_type": "code",
   "execution_count": 13,
   "metadata": {},
   "outputs": [
    {
     "name": "stdout",
     "output_type": "stream",
     "text": [
      "Рост человека отклоняется на 2.4 сигм\n"
     ]
    }
   ],
   "source": [
    "X = 190\n",
    "M = 178\n",
    "D = 25\n",
    "S = np.math.sqrt(D)\n",
    "\n",
    "z = (X - M) / S\n",
    "\n",
    "print(f'Рост человека отклоняется на {z} сигм')"
   ]
  }
 ],
 "metadata": {
  "kernelspec": {
   "display_name": "Python 3",
   "language": "python",
   "name": "python3"
  },
  "language_info": {
   "codemirror_mode": {
    "name": "ipython",
    "version": 3
   },
   "file_extension": ".py",
   "mimetype": "text/x-python",
   "name": "python",
   "nbconvert_exporter": "python",
   "pygments_lexer": "ipython3",
   "version": "3.7.4"
  }
 },
 "nbformat": 4,
 "nbformat_minor": 1
}
